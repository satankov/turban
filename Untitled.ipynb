{
 "cells": [
  {
   "cell_type": "code",
   "execution_count": 1,
   "metadata": {
    "ExecuteTime": {
     "end_time": "2020-08-30T20:14:33.919760Z",
     "start_time": "2020-08-30T20:14:32.933718Z"
    }
   },
   "outputs": [],
   "source": [
    "#Uses python3\n",
    "\n",
    "import numpy as np\n",
    "import time\n",
    "import pandas as pd\n",
    "import sys\n",
    "seed = 1\n",
    "np.random.seed(seed)"
   ]
  },
  {
   "cell_type": "markdown",
   "metadata": {},
   "source": [
    "\\begin{array}{cccc}\n",
    "& \\sigma_2 && \\sigma_0 && \\sigma_1 && \\sigma_2 && \\sigma_0  \\\\\n",
    "& \\sigma_5 && \\sigma_3 && \\sigma_4 && \\sigma_5 && \\sigma_3 \\\\\n",
    "& \\sigma_8 && \\sigma_6 && \\sigma_7 && \\sigma_8 && \\sigma_6 \\\\\n",
    "\\end{array}"
   ]
  },
  {
   "cell_type": "code",
   "execution_count": 72,
   "metadata": {
    "ExecuteTime": {
     "end_time": "2020-08-30T21:58:04.246565Z",
     "start_time": "2020-08-30T21:58:04.221174Z"
    }
   },
   "outputs": [],
   "source": [
    "#====================== all functions ======================\n",
    "def coord(site):\n",
    "    \"\"\"get coordinate i of vector\"\"\"\n",
    "    x = site // L\n",
    "    y = site - x*L\n",
    "    return (x,y)\n",
    "\n",
    "def get(i):\n",
    "    \"\"\"fixin' boundary\"\"\"\n",
    "    if i<0: return i\n",
    "    else: return i % L\n",
    "    \n",
    "def get_neigh():\n",
    "    \"\"\"get neighbour's arr\"\"\"\n",
    "    s = np.arange(L**2).reshape(L,L)\n",
    "    nei = []\n",
    "    for site in range(L*L):\n",
    "        i,j = coord(site)\n",
    "        nei += [s[get(i-1),get(j)],s[get(i),get(j+1)],s[get(i),get(j+2)],\n",
    "                s[get(i+1),get(j)],s[get(i),get(j-1)],s[get(i),get(j-2)]]\n",
    "    return np.array(nei, dtype=np.int32).reshape(L*L,6)\n",
    "\n",
    "#################################################################\n",
    "\n",
    "def gen_state():\n",
    "    \"\"\"generate random start state with lenght L*L and [-1,1] components\"\"\"\n",
    "    state = np.array([np.random.choice([-1,1]) for _ in range(L*L)], dtype=np.int32)\n",
    "    return state\n",
    "\n",
    "def mc_choice(dE,T):\n",
    "    \"\"\"принимаем или не принимаем переворот спина?\"\"\"\n",
    "    if dE <= 0:\n",
    "        return True\n",
    "    elif np.random.uniform() <= np.exp(-dE/T):\n",
    "        return True\n",
    "    else:\n",
    "        return False\n",
    "    \n",
    "def calc_dE(site, neigh):\n",
    "    \"\"\"calculate dE\"\"\"\n",
    "    dE = 2*site*(neigh[0] + neigh[1]*neigh[2] + neigh[1]*neigh[4] + neigh[3] + neigh[4]*neigh[5])\n",
    "    return dE\n",
    "\n",
    "#################################################################\n",
    "\n",
    "def step(s,nei,T):\n",
    "    \"\"\"крутим 1 спин\"\"\"\n",
    "    j,k = np.random.randint(-2,L-2), np.random.randint(-2,L-2) \n",
    "    if j < 0: j=L+j\n",
    "    if k < 0: k=L+k\n",
    "    site = j*L+k\n",
    "    \n",
    "    neigh = s[nei[site,:]]  \n",
    "    dE = calc_dE(s[site], neigh)\n",
    "    if mc_choice(dE,T):\n",
    "        s[site] *= -1\n",
    "\n",
    "def mc_step(s, nei, T):\n",
    "    \"\"\"perform L*L flips for 1 MC step\"\"\"\n",
    "    for _ in range(L*L):\n",
    "        step(s,nei,T)\n",
    "\n",
    "#################################################################\n",
    "\n",
    "def calc_e(s):\n",
    "    s = s.reshape(L,L)\n",
    "    e = 0\n",
    "    for i in range(-2,L-3):\n",
    "        for j in range(-2,L-3):\n",
    "            e += (s[i,j]*s[i-1,j] + s[i,j]*s[i+1,j] +\n",
    "                  s[i,j]*s[i,j+1]*s[i,j+2] +\n",
    "                  s[i,j]*s[i,j-1]*s[i,j+1]\n",
    "            )\n",
    "    return -e/(L*L)/2 ### делим на 2, потому что учитываем каждую связь дважды\n",
    "\n",
    "def calc_m(s):\n",
    "    s = s.reshape(L,L)\n",
    "    m = 0\n",
    "    for i in range(L):\n",
    "        for j in range(L):\n",
    "            m += s[i,j]\n",
    "    return m/(L*L) "
   ]
  },
  {
   "cell_type": "code",
   "execution_count": 63,
   "metadata": {
    "ExecuteTime": {
     "end_time": "2020-08-30T21:53:06.989256Z",
     "start_time": "2020-08-30T21:52:44.354460Z"
    }
   },
   "outputs": [
    {
     "name": "stdout",
     "output_type": "stream",
     "text": [
      "2.82 s ± 180 ms per loop (mean ± std. dev. of 7 runs, 1 loop each)\n"
     ]
    }
   ],
   "source": [
    "global L\n",
    "L = 100\n",
    "\n",
    "np.random.seed(1)\n",
    "s = gen_state(); nei = get_neigh()\n",
    "\n",
    "%timeit [mc_step(s,nei,1) for _ in range(10)]"
   ]
  },
  {
   "cell_type": "code",
   "execution_count": 73,
   "metadata": {
    "ExecuteTime": {
     "end_time": "2020-08-30T21:58:16.498832Z",
     "start_time": "2020-08-30T21:58:13.572711Z"
    }
   },
   "outputs": [
    {
     "name": "stdout",
     "output_type": "stream",
     "text": [
      "0.0045\n",
      "-1.361\n"
     ]
    }
   ],
   "source": [
    "global L\n",
    "L = 100\n",
    "\n",
    "np.random.seed(1)\n",
    "s= gen_state(); nei = get_neigh()\n",
    "print(calc_e(s))\n",
    "\n",
    "for _ in range(10):\n",
    "    mc_step(s, nei, 1)\n",
    "print(calc_e(s))"
   ]
  },
  {
   "cell_type": "code",
   "execution_count": null,
   "metadata": {},
   "outputs": [],
   "source": [
    "# py       -- 2.07 s ± 290 ms per loop -- pure py code\n",
    "# py+neigh -- 2.82 s ± 180 ms per loop -- python + tabulated neighbours"
   ]
  },
  {
   "cell_type": "code",
   "execution_count": null,
   "metadata": {},
   "outputs": [],
   "source": []
  },
  {
   "cell_type": "code",
   "execution_count": null,
   "metadata": {},
   "outputs": [],
   "source": []
  },
  {
   "cell_type": "code",
   "execution_count": null,
   "metadata": {},
   "outputs": [],
   "source": [
    "### py ###\n",
    "0.0045\n",
    "-1.361\n",
    "\n",
    "### py + neigh ###\n",
    "0.0045\n",
    "-1.361"
   ]
  },
  {
   "cell_type": "code",
   "execution_count": null,
   "metadata": {},
   "outputs": [],
   "source": []
  },
  {
   "cell_type": "code",
   "execution_count": null,
   "metadata": {},
   "outputs": [],
   "source": []
  },
  {
   "cell_type": "code",
   "execution_count": null,
   "metadata": {},
   "outputs": [],
   "source": []
  },
  {
   "cell_type": "code",
   "execution_count": null,
   "metadata": {},
   "outputs": [],
   "source": []
  },
  {
   "cell_type": "markdown",
   "metadata": {},
   "source": [
    "# draft"
   ]
  },
  {
   "cell_type": "code",
   "execution_count": null,
   "metadata": {},
   "outputs": [],
   "source": []
  }
 ],
 "metadata": {
  "kernelspec": {
   "display_name": "Python 3",
   "language": "python",
   "name": "python3"
  },
  "language_info": {
   "codemirror_mode": {
    "name": "ipython",
    "version": 3
   },
   "file_extension": ".py",
   "mimetype": "text/x-python",
   "name": "python",
   "nbconvert_exporter": "python",
   "pygments_lexer": "ipython3",
   "version": "3.6.8"
  },
  "toc": {
   "base_numbering": 1,
   "nav_menu": {},
   "number_sections": true,
   "sideBar": true,
   "skip_h1_title": false,
   "title_cell": "Table of Contents",
   "title_sidebar": "Contents",
   "toc_cell": false,
   "toc_position": {},
   "toc_section_display": true,
   "toc_window_display": false
  },
  "varInspector": {
   "cols": {
    "lenName": 16,
    "lenType": 16,
    "lenVar": 40
   },
   "kernels_config": {
    "python": {
     "delete_cmd_postfix": "",
     "delete_cmd_prefix": "del ",
     "library": "var_list.py",
     "varRefreshCmd": "print(var_dic_list())"
    },
    "r": {
     "delete_cmd_postfix": ") ",
     "delete_cmd_prefix": "rm(",
     "library": "var_list.r",
     "varRefreshCmd": "cat(var_dic_list()) "
    }
   },
   "types_to_exclude": [
    "module",
    "function",
    "builtin_function_or_method",
    "instance",
    "_Feature"
   ],
   "window_display": false
  }
 },
 "nbformat": 4,
 "nbformat_minor": 2
}
