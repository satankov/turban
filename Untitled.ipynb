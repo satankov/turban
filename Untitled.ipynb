{
 "cells": [
  {
   "cell_type": "code",
   "execution_count": 6,
   "metadata": {
    "ExecuteTime": {
     "end_time": "2020-08-29T07:58:58.507293Z",
     "start_time": "2020-08-29T07:58:58.499642Z"
    }
   },
   "outputs": [],
   "source": [
    "#Uses python3\n",
    "\n",
    "import numpy as np\n",
    "import random as rnd\n",
    "import time\n",
    "import pandas as pd\n",
    "import sys\n",
    "seed = 1\n",
    "rnd.seed(seed)\n",
    "np.random.seed(seed)"
   ]
  },
  {
   "cell_type": "markdown",
   "metadata": {},
   "source": [
    "\\begin{array}{cccc}\n",
    "& \\sigma_2 && \\sigma_0 && \\sigma_1 && \\sigma_2 && \\sigma_0  \\\\\n",
    "& \\sigma_5 && \\sigma_3 && \\sigma_4 && \\sigma_5 && \\sigma_3 \\\\\n",
    "& \\sigma_8 && \\sigma_6 && \\sigma_7 && \\sigma_8 && \\sigma_6 \\\\\n",
    "\\end{array}"
   ]
  },
  {
   "cell_type": "code",
   "execution_count": null,
   "metadata": {},
   "outputs": [],
   "source": []
  },
  {
   "cell_type": "code",
   "execution_count": 34,
   "metadata": {
    "ExecuteTime": {
     "end_time": "2020-08-29T09:18:51.813977Z",
     "start_time": "2020-08-29T09:18:51.789672Z"
    }
   },
   "outputs": [],
   "source": [
    "def gen_e0(n):\n",
    "    \"\"\"генерирует все возможные последовательности из 7 спинов\"\"\"\n",
    "    n_b = str(bin(n))[2:]\n",
    "    n_arr = [-1]*(7-len(n_b)) + [int(x) if x=='1' else -1 for x in n_b]\n",
    "    return n_arr\n",
    "\n",
    "def calc_e_dict(arr):\n",
    "    \"\"\"вычисляет энергию конкретной конфигурации\"\"\"\n",
    "    J = 1\n",
    "    e = 0\n",
    "    e += (\n",
    "        arr[0]*arr[1] + \n",
    "        arr[0]*arr[4] +\n",
    "        arr[0]*arr[2]*arr[3] +\n",
    "        arr[0]*arr[5]*arr[6] + \n",
    "        arr[0]*arr[2]*arr[6]\n",
    "    )\n",
    "    return -J*e\n",
    "\n",
    "def gen_e_dict():\n",
    "    \"\"\"генерируем и заполняем словарь всех энергий\"\"\"\n",
    "    d = dict()\n",
    "    for i in range(0,128):\n",
    "        conf = gen_e0(i)\n",
    "        d[str(conf)] = calc_e_dict(conf)\n",
    "    return d\n",
    "\n",
    "\n",
    "#################################################################\n",
    "#################################################################\n",
    "\n",
    "def gen_state():\n",
    "    \"\"\"generate random start state with lenght L*L and [-1,1] components\"\"\"\n",
    "    state = np.random.choice([-1,1], L*L).reshape(L,L)\n",
    "    return state\n",
    "\n",
    "def get_ij():\n",
    "    \"\"\"get spin for MC\"\"\"\n",
    "    return rnd.randint(-2, L-3), rnd.randint(-2, L-3)\n",
    "\n",
    "def get_conf(i,j,s):\n",
    "    \"\"\"формируем конфигурацию, по вышеописанному правилу таблицы энергий\"\"\"\n",
    "    return ([s[i,j]]+[s[i-1,j]]+[s[i,j+1]]+[s[i,j+2]]+\n",
    "                    [s[i+1,j]]+[s[i,j-2]]+[s[i,j-1]])\n",
    "\n",
    "def mc_choice(dE,T):\n",
    "    \"\"\"принимаем или не принимаем переворот спина?\"\"\"\n",
    "    if dE <= 0:\n",
    "        return True\n",
    "    elif rnd.uniform(1,0) <= np.exp(-dE/T):\n",
    "        return True\n",
    "    else:\n",
    "        return False\n",
    "    \n",
    "#################################################################\n",
    "\n",
    "def step(s,edict,T):\n",
    "    \"\"\"крутим 1 спин\"\"\"\n",
    "    i,j = get_ij()         ### выбираем случайный спин\n",
    "    arr = get_conf(i,j,s)   ### формируем конфигурацию \"вокруг\" него\n",
    "    arr_before = arr.copy() ### конфигурация ДО переворота спина\n",
    "    arr[0] *= -1            ### конфигурация ПОСЛЕ переворота спина на решетке s\n",
    "    dE = edict[str(arr)]-edict[str(arr_before)]\n",
    "    if mc_choice(dE,T):\n",
    "        s[i,j] *= -1\n",
    "    return s\n",
    "\n",
    "def mc_step(s, edict, T):\n",
    "    \"\"\"perform L*L flips for 1 MC step\"\"\"\n",
    "    for _ in range(L*L):\n",
    "        s = step(s,edict,T)\n",
    "    return s\n",
    "\n",
    "#################################################################\n",
    "\n",
    "def calc_e(s):\n",
    "    e = 0\n",
    "    for i in range(-2,L-3):\n",
    "        for j in range(-2,L-3):\n",
    "            e += (s[i,j]*s[i-1,j] + s[i,j]*s[i+1,j] +\n",
    "                  s[i,j]*s[i,j+1]*s[i,j+2] +\n",
    "                  s[i,j]*s[i,j-1]*s[i,j+1]\n",
    "            )\n",
    "    return -e/(L*L)/2 ### делим на 2, потому что учитываем каждую связь дважды\n",
    "\n",
    "def calc_m(s):\n",
    "    m = 0\n",
    "    for i in range(L):\n",
    "        for j in range(L):\n",
    "            m += s[i,j]\n",
    "    return m/(L*L) \n"
   ]
  },
  {
   "cell_type": "code",
   "execution_count": 37,
   "metadata": {
    "ExecuteTime": {
     "end_time": "2020-08-29T09:19:43.583524Z",
     "start_time": "2020-08-29T09:19:29.654219Z"
    }
   },
   "outputs": [
    {
     "name": "stdout",
     "output_type": "stream",
     "text": [
      "1.73 s ± 8.08 ms per loop (mean ± std. dev. of 7 runs, 1 loop each)\n"
     ]
    }
   ],
   "source": [
    "global L\n",
    "L = 100\n",
    "\n",
    "np.random.seed(1)\n",
    "s = gen_state(); edict = gen_e_dict()\n",
    "\n",
    "%timeit [mc_step(s,edict,1) for _ in range(10)]"
   ]
  },
  {
   "cell_type": "code",
   "execution_count": 38,
   "metadata": {
    "ExecuteTime": {
     "end_time": "2020-08-29T09:19:45.622923Z",
     "start_time": "2020-08-29T09:19:43.726489Z"
    }
   },
   "outputs": [
    {
     "name": "stdout",
     "output_type": "stream",
     "text": [
      "0.0045\n",
      "-1.3572\n"
     ]
    }
   ],
   "source": [
    "global L\n",
    "L = 100\n",
    "\n",
    "np.random.seed(1)\n",
    "s= gen_state(); edict = gen_e_dict()\n",
    "print(calc_e(s))\n",
    "\n",
    "for _ in range(10):\n",
    "    mc_step(s, edict, 1)\n",
    "print(calc_e(s))"
   ]
  },
  {
   "cell_type": "code",
   "execution_count": null,
   "metadata": {},
   "outputs": [],
   "source": [
    "# py -- 2.07 s ± 290 ms per loop -- pure py code"
   ]
  },
  {
   "cell_type": "code",
   "execution_count": null,
   "metadata": {},
   "outputs": [],
   "source": []
  },
  {
   "cell_type": "code",
   "execution_count": null,
   "metadata": {},
   "outputs": [],
   "source": []
  },
  {
   "cell_type": "code",
   "execution_count": null,
   "metadata": {},
   "outputs": [],
   "source": [
    "### py ###\n",
    "0.0045\n",
    "-1.3512"
   ]
  },
  {
   "cell_type": "code",
   "execution_count": null,
   "metadata": {},
   "outputs": [],
   "source": []
  },
  {
   "cell_type": "code",
   "execution_count": null,
   "metadata": {},
   "outputs": [],
   "source": []
  },
  {
   "cell_type": "code",
   "execution_count": null,
   "metadata": {},
   "outputs": [],
   "source": []
  },
  {
   "cell_type": "code",
   "execution_count": null,
   "metadata": {},
   "outputs": [],
   "source": []
  },
  {
   "cell_type": "markdown",
   "metadata": {},
   "source": [
    "# draft"
   ]
  },
  {
   "cell_type": "code",
   "execution_count": null,
   "metadata": {},
   "outputs": [],
   "source": [
    "def coord(site):\n",
    "    \"\"\"get coordinate i of vector\"\"\"\n",
    "    x = site // L\n",
    "    y = site - x*L\n",
    "    return (x,y)\n",
    "\n",
    "def get(i):\n",
    "    \"\"\"fixin' boundary\"\"\"\n",
    "    if i<0: return i\n",
    "    else: return i % L\n",
    "    \n",
    "def get_neigh():\n",
    "    \"\"\"get neighbour's arr\"\"\"\n",
    "    s = np.arange(L**2).reshape(L,L)\n",
    "    nei = []\n",
    "    for site in range(L*L):\n",
    "        i,j = coord(site)\n",
    "        nei += [s[get(i-1),get(j)],s[get(i),get(j+1)],s[get(i),get(j+2)],\n",
    "                s[get(i+1),get(j)],s[get(i),get(j-1)],s[get(i),get(j-2)]]\n",
    "    return np.array(nei, dtype=np.int32).reshape(L*L,6)"
   ]
  }
 ],
 "metadata": {
  "kernelspec": {
   "display_name": "Python 3",
   "language": "python",
   "name": "python3"
  },
  "language_info": {
   "codemirror_mode": {
    "name": "ipython",
    "version": 3
   },
   "file_extension": ".py",
   "mimetype": "text/x-python",
   "name": "python",
   "nbconvert_exporter": "python",
   "pygments_lexer": "ipython3",
   "version": "3.6.8"
  },
  "toc": {
   "base_numbering": 1,
   "nav_menu": {},
   "number_sections": true,
   "sideBar": true,
   "skip_h1_title": false,
   "title_cell": "Table of Contents",
   "title_sidebar": "Contents",
   "toc_cell": false,
   "toc_position": {},
   "toc_section_display": true,
   "toc_window_display": false
  },
  "varInspector": {
   "cols": {
    "lenName": 16,
    "lenType": 16,
    "lenVar": 40
   },
   "kernels_config": {
    "python": {
     "delete_cmd_postfix": "",
     "delete_cmd_prefix": "del ",
     "library": "var_list.py",
     "varRefreshCmd": "print(var_dic_list())"
    },
    "r": {
     "delete_cmd_postfix": ") ",
     "delete_cmd_prefix": "rm(",
     "library": "var_list.r",
     "varRefreshCmd": "cat(var_dic_list()) "
    }
   },
   "types_to_exclude": [
    "module",
    "function",
    "builtin_function_or_method",
    "instance",
    "_Feature"
   ],
   "window_display": false
  }
 },
 "nbformat": 4,
 "nbformat_minor": 2
}
